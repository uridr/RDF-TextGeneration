{
 "cells": [
  {
   "cell_type": "markdown",
   "metadata": {},
   "source": [
    "# Introduction\n",
    "State notebook purpose here"
   ]
  },
  {
   "cell_type": "markdown",
   "metadata": {},
   "source": [
    "## Notebook configuration\n",
    "Configure several notebook configuration settings."
   ]
  },
  {
   "cell_type": "code",
   "execution_count": 1,
   "metadata": {},
   "outputs": [
    {
     "data": {
      "text/html": [
       "<style>.container { width:98% !important; }</style>"
      ],
      "text/plain": [
       "<IPython.core.display.HTML object>"
      ]
     },
     "metadata": {},
     "output_type": "display_data"
    }
   ],
   "source": [
    "# Disable some warnings\n",
    "\n",
    "import warnings\n",
    "\n",
    "warnings.filterwarnings('ignore', category = DeprecationWarning)\n",
    "warnings.filterwarnings('ignore', category = UserWarning)\n",
    "warnings.filterwarnings('ignore', category = FutureWarning)\n",
    "\n",
    "# Display all cell outputs\n",
    "from IPython.core.interactiveshell import InteractiveShell\n",
    "InteractiveShell.ast_node_interactivity = 'all'\n",
    "\n",
    "# Use full screen width\n",
    "from IPython.core.display import display, HTML\n",
    "display(HTML(\"<style>.container { width:98% !important; }</style>\"))"
   ]
  },
  {
   "cell_type": "markdown",
   "metadata": {},
   "source": [
    "## Libraries / Packages\n",
    "Import several useful packages for the notebook and configure some extra options."
   ]
  },
  {
   "cell_type": "code",
   "execution_count": 6,
   "metadata": {},
   "outputs": [],
   "source": [
    "import os\n",
    "import json\n",
    "import numpy as np\n",
    "import pandas as pd\n",
    "\n",
    "import matplotlib.pyplot as plt\n",
    "\n",
    "%matplotlib inline\n",
    "plt.style.use(\"seaborn-whitegrid\")"
   ]
  },
  {
   "cell_type": "code",
   "execution_count": 3,
   "metadata": {},
   "outputs": [
    {
     "name": "stdout",
     "output_type": "stream",
     "text": [
      "faireq_501.log        faireq_536.log        fairseq_644_loss.json\r\n",
      "faireq_501_loss.json  faireq_536_loss.json  loss_viz.ipynb\r\n",
      "faireq_501_loss.txt   fairseq_644.log\r\n"
     ]
    }
   ],
   "source": [
    "!ls"
   ]
  },
  {
   "cell_type": "code",
   "execution_count": 4,
   "metadata": {},
   "outputs": [],
   "source": [
    "TRANSFORMER_PATH   = \"fairseq_644_loss.json\"\n",
    "CONVOLUTIONAL_PATH = \"faireq_536_loss.json\""
   ]
  },
  {
   "cell_type": "code",
   "execution_count": 17,
   "metadata": {},
   "outputs": [],
   "source": [
    "def readJson(path):\n",
    "    with open(path, \"r\") as f:\n",
    "        loss = json.load(f)\n",
    "    return loss\n",
    "\n",
    "transformer_log   = readJson(TRANSFORMER_PATH)\n",
    "convolutional_log = readJson(CONVOLUTIONAL_PATH)"
   ]
  },
  {
   "cell_type": "code",
   "execution_count": 39,
   "metadata": {},
   "outputs": [],
   "source": [
    "transformer_train_loss, transformer_valid_loss = [], []\n",
    "\n",
    "for i in range(len(transformer_log)):\n",
    "    if i % 2 == 0:\n",
    "        transformer_train_loss.append(float(transformer_log[i][\"loss\"]))\n",
    "    else:\n",
    "        transformer_valid_loss.append(float(transformer_log[i][\"valid_loss\"]))\n",
    "        \n",
    "convolutional_train_loss, convolutional_valid_loss = [], []\n",
    "\n",
    "for i in range(len(convolutional_log)):\n",
    "    if i % 2 == 0:\n",
    "        convolutional_train_loss.append(float(convolutional_log[i][\"train_loss\"]))\n",
    "    else:\n",
    "        convolutional_valid_loss.append(float(convolutional_log[i][\"valid_loss\"]))"
   ]
  },
  {
   "cell_type": "code",
   "execution_count": 75,
   "metadata": {},
   "outputs": [
    {
     "data": {
      "text/plain": [
       "<Figure size 1728x720 with 0 Axes>"
      ]
     },
     "execution_count": 75,
     "metadata": {},
     "output_type": "execute_result"
    },
    {
     "data": {
      "text/plain": [
       "<matplotlib.axes._subplots.AxesSubplot at 0x126398c50>"
      ]
     },
     "execution_count": 75,
     "metadata": {},
     "output_type": "execute_result"
    },
    {
     "data": {
      "text/plain": [
       "[<matplotlib.lines.Line2D at 0x1263b69d0>]"
      ]
     },
     "execution_count": 75,
     "metadata": {},
     "output_type": "execute_result"
    },
    {
     "data": {
      "text/plain": [
       "[<matplotlib.lines.Line2D at 0x12636b650>]"
      ]
     },
     "execution_count": 75,
     "metadata": {},
     "output_type": "execute_result"
    },
    {
     "data": {
      "text/plain": [
       "([<matplotlib.axis.XTick at 0x1263ac150>,\n",
       "  <matplotlib.axis.XTick at 0x125f32550>,\n",
       "  <matplotlib.axis.XTick at 0x125f818d0>,\n",
       "  <matplotlib.axis.XTick at 0x1266efe10>,\n",
       "  <matplotlib.axis.XTick at 0x1267065d0>,\n",
       "  <matplotlib.axis.XTick at 0x126706c10>,\n",
       "  <matplotlib.axis.XTick at 0x1266f52d0>,\n",
       "  <matplotlib.axis.XTick at 0x1266f5910>,\n",
       "  <matplotlib.axis.XTick at 0x1266f57d0>,\n",
       "  <matplotlib.axis.XTick at 0x1267055d0>],\n",
       " <a list of 10 Text xticklabel objects>)"
      ]
     },
     "execution_count": 75,
     "metadata": {},
     "output_type": "execute_result"
    },
    {
     "data": {
      "text/plain": [
       "<matplotlib.legend.Legend at 0x126705110>"
      ]
     },
     "execution_count": 75,
     "metadata": {},
     "output_type": "execute_result"
    },
    {
     "data": {
      "text/plain": [
       "Text(0.5, 0, 'Epochs')"
      ]
     },
     "execution_count": 75,
     "metadata": {},
     "output_type": "execute_result"
    },
    {
     "data": {
      "text/plain": [
       "Text(0, 0.5, 'Cross Entropy Loss')"
      ]
     },
     "execution_count": 75,
     "metadata": {},
     "output_type": "execute_result"
    },
    {
     "data": {
      "text/plain": [
       "<matplotlib.axes._subplots.AxesSubplot at 0x126705fd0>"
      ]
     },
     "execution_count": 75,
     "metadata": {},
     "output_type": "execute_result"
    },
    {
     "data": {
      "text/plain": [
       "[<matplotlib.lines.Line2D at 0x126744bd0>]"
      ]
     },
     "execution_count": 75,
     "metadata": {},
     "output_type": "execute_result"
    },
    {
     "data": {
      "text/plain": [
       "[<matplotlib.lines.Line2D at 0x126705c90>]"
      ]
     },
     "execution_count": 75,
     "metadata": {},
     "output_type": "execute_result"
    },
    {
     "data": {
      "text/plain": [
       "([<matplotlib.axis.XTick at 0x126725310>,\n",
       "  <matplotlib.axis.XTick at 0x126720a10>,\n",
       "  <matplotlib.axis.XTick at 0x126720750>,\n",
       "  <matplotlib.axis.XTick at 0x126759a50>,\n",
       "  <matplotlib.axis.XTick at 0x126759ed0>,\n",
       "  <matplotlib.axis.XTick at 0x1267504d0>,\n",
       "  <matplotlib.axis.XTick at 0x126750b50>,\n",
       "  <matplotlib.axis.XTick at 0x12675e250>,\n",
       "  <matplotlib.axis.XTick at 0x12675e810>,\n",
       "  <matplotlib.axis.XTick at 0x12675ee50>],\n",
       " <a list of 10 Text xticklabel objects>)"
      ]
     },
     "execution_count": 75,
     "metadata": {},
     "output_type": "execute_result"
    },
    {
     "data": {
      "text/plain": [
       "Text(0.5, 0, 'Epochs')"
      ]
     },
     "execution_count": 75,
     "metadata": {},
     "output_type": "execute_result"
    },
    {
     "data": {
      "text/plain": [
       "Text(0, 0.5, 'Cross Entropy Loss')"
      ]
     },
     "execution_count": 75,
     "metadata": {},
     "output_type": "execute_result"
    },
    {
     "data": {
      "text/plain": [
       "<matplotlib.legend.Legend at 0x12675e050>"
      ]
     },
     "execution_count": 75,
     "metadata": {},
     "output_type": "execute_result"
    },
    {
     "data": {
      "image/png": "[encoded data removed]",
      "text/plain": [
       "<Figure size 1728x720 with 2 Axes>"
      ]
     },
     "metadata": {},
     "output_type": "display_data"
    }
   ],
   "source": [
    "plt.figure(figsize=(24, 10))\n",
    "\n",
    "# Transformer model\n",
    "plt.subplot(1, 2, 1)\n",
    "x  = np.arange(1, len(transformer_train_loss) + 1, 1.)\n",
    "y1 = np.array(transformer_train_loss)\n",
    "y2 = np.array(transformer_valid_loss)\n",
    "plt.plot(x, transformer_train_loss, lw=2, marker=\"o\", label=\"Train Loss\")\n",
    "plt.plot(x, transformer_valid_loss, lw=2, marker=\"o\", label=\"Valid Loss\")\n",
    "\n",
    "plt.xticks(np.arange(1., 21., 2.), fontsize=12)\n",
    "plt.tick_params(axis=\"y\", labelsize=12)\n",
    "plt.legend(prop={\"size\" : 14})\n",
    "plt.xlabel(\"Epochs\", fontsize=12)\n",
    "plt.ylabel(\"Cross Entropy Loss\", fontsize=12)\n",
    "\n",
    "# Convolutional model\n",
    "plt.subplot(1, 2, 2)\n",
    "x  = np.arange(1, len(convolutional_train_loss) + 1, 1.)\n",
    "y1 = np.array(convolutional_train_loss)\n",
    "y2 = np.array(convolutional_valid_loss)\n",
    "plt.plot(x, convolutional_train_loss, lw=2, marker=\"o\", label=\"Train Loss\")\n",
    "plt.plot(x, convolutional_valid_loss, lw=2, marker=\"o\", label=\"Valid Loss\")\n",
    "\n",
    "plt.xticks(np.arange(1., 11., 1.), fontsize=12)\n",
    "plt.tick_params(axis=\"y\", labelsize=12)\n",
    "plt.xlabel(\"Epochs\", fontsize=12)\n",
    "plt.ylabel(\"Cross Entropy Loss\", fontsize=12)\n",
    "plt.legend(prop={\"size\" : 14})\n",
    "\n",
    "plt.show()"
   ]
  },
  {
   "cell_type": "code",
   "execution_count": null,
   "metadata": {},
   "outputs": [],
   "source": []
  },
  {
   "cell_type": "code",
   "execution_count": null,
   "metadata": {},
   "outputs": [],
   "source": []
  },
  {
   "cell_type": "code",
   "execution_count": null,
   "metadata": {},
   "outputs": [],
   "source": []
  },
  {
   "cell_type": "code",
   "execution_count": null,
   "metadata": {},
   "outputs": [],
   "source": []
  },
  {
   "cell_type": "code",
   "execution_count": null,
   "metadata": {},
   "outputs": [],
   "source": []
  }
 ],
 "metadata": {
  "kernelspec": {
   "display_name": "Python 3",
   "language": "python",
   "name": "python3"
  },
  "language_info": {
   "codemirror_mode": {
    "name": "ipython",
    "version": 3
   },
   "file_extension": ".py",
   "mimetype": "text/x-python",
   "name": "python",
   "nbconvert_exporter": "python",
   "pygments_lexer": "ipython3",
   "version": "3.7.5"
  }
 },
 "nbformat": 4,
 "nbformat_minor": 4
}
