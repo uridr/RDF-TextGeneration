{
 "cells": [
  {
   "cell_type": "code",
   "execution_count": 1,
   "metadata": {
    "colab": {},
    "colab_type": "code",
    "id": "hxYtNDwcAsJD"
   },
   "outputs": [],
   "source": [
    "import altair as alt\n",
    "import json\n",
    "import pandas as pd"
   ]
  },
  {
   "cell_type": "code",
   "execution_count": 5,
   "metadata": {
    "colab": {
     "base_uri": "https://localhost:8080/",
     "height": 34
    },
    "colab_type": "code",
    "id": "J-b_M5oPAzfb",
    "outputId": "623098fe-aaad-45fc-90f6-e1f6d71eb505"
   },
   "outputs": [
    {
     "name": "stdout",
     "output_type": "stream",
     "text": [
      "{'BLEU': 26.47, 'BLEU NLTK': 0.26, 'METEOR': 0.28, 'chrF++': 0.48, 'TER': 0.63}\n"
     ]
    }
   ],
   "source": [
    "#Need to load models_metrics.json to content\n",
    "data = []\n",
    "with open(\"/content/models_metrics.json\") as f:\n",
    "    data = json.load(f)\n",
    "\n",
    "print(data[0][\"metrics\"])"
   ]
  },
  {
   "cell_type": "code",
   "execution_count": 6,
   "metadata": {
    "colab": {},
    "colab_type": "code",
    "id": "QHTZfUgKBiqU"
   },
   "outputs": [],
   "source": [
    "graphs = []\n",
    "for eval in range(0,len(data)):\n",
    "  eval_metrics = data[eval][\"metrics\"]\n",
    "  source = pd.DataFrame({\n",
    "    'a': list(eval_metrics.keys()),\n",
    "    'b': list(eval_metrics.values())\n",
    "  })\n",
    "  chart = alt.Chart(source).mark_bar().encode(\n",
    "    x=alt.X('a', title='Metrics'),\n",
    "    y=alt.Y('b', title='Score')\n",
    "  ).properties(\n",
    "    title=data[eval][\"model\"]\n",
    "  ) \n",
    "\n",
    "  graphs.append(chart)\n",
    "  "
   ]
  },
  {
   "cell_type": "code",
   "execution_count": 7,
   "metadata": {
    "colab": {
     "base_uri": "https://localhost:8080/",
     "height": 431
    },
    "colab_type": "code",
    "id": "GvZgdJXoA5le",
    "outputId": "d15c1893-c3fe-49ea-a065-9988766402a2"
   },
   "outputs": [
    {
     "data": {
      "application/vnd.vegalite.v3+json": {
       "$schema": "https://vega.github.io/schema/vega-lite/v3.4.0.json",
       "config": {
        "mark": {
         "tooltip": null
        },
        "view": {
         "height": 300,
         "width": 400
        }
       },
       "data": {
        "name": "data-7f4073dceb59daf5d1c014d8d60d1cbc"
       },
       "datasets": {
        "data-16909ab804c937aba75128e062adbed7": [
         {
          "a": "BLEU",
          "b": 1.4
         },
         {
          "a": "BLEU NLTK",
          "b": 0.01
         },
         {
          "a": "METEOR",
          "b": 0.04
         },
         {
          "a": "chrF++",
          "b": 0.06
         },
         {
          "a": "TER",
          "b": 2.21
         }
        ],
        "data-1de0a12b44dad73aacfaaf37e757d6d9": [
         {
          "a": "BLEU",
          "b": 28.95
         },
         {
          "a": "BLEU NLTK",
          "b": 0.29
         },
         {
          "a": "METEOR",
          "b": 0.3
         },
         {
          "a": "chrF++",
          "b": 0.52
         },
         {
          "a": "TER",
          "b": 0.59
         }
        ],
        "data-2dd0e6fcd738e53b5d97c087e4284c9b": [
         {
          "a": "BLEU",
          "b": 30.28
         },
         {
          "a": "BLEU NLTK",
          "b": 0.3
         },
         {
          "a": "METEOR",
          "b": 0.31
         },
         {
          "a": "chrF++",
          "b": 0.53
         },
         {
          "a": "TER",
          "b": 0.59
         }
        ],
        "data-5fc1988fbb3f30d3ddce71880b1b2d4f": [
         {
          "a": "BLEU",
          "b": 31.27
         },
         {
          "a": "BLEU NLTK",
          "b": 0.31
         },
         {
          "a": "METEOR",
          "b": 0.31
         },
         {
          "a": "chrF++",
          "b": 0.54
         },
         {
          "a": "TER",
          "b": 0.59
         }
        ],
        "data-675ff3a884e9b1ff1f825fc39178cdd3": [
         {
          "a": "BLEU",
          "b": 26.15
         },
         {
          "a": "BLEU NLTK",
          "b": 0.26
         },
         {
          "a": "METEOR",
          "b": 0.27
         },
         {
          "a": "chrF++",
          "b": 0.47
         },
         {
          "a": "TER",
          "b": 0.67
         }
        ],
        "data-7f4073dceb59daf5d1c014d8d60d1cbc": [
         {
          "a": "BLEU",
          "b": 26.47
         },
         {
          "a": "BLEU NLTK",
          "b": 0.26
         },
         {
          "a": "METEOR",
          "b": 0.28
         },
         {
          "a": "chrF++",
          "b": 0.48
         },
         {
          "a": "TER",
          "b": 0.63
         }
        ],
        "data-95a8c7f108463152da0e61af0124a2ce": [
         {
          "a": "BLEU",
          "b": 27.25
         },
         {
          "a": "BLEU NLTK",
          "b": 0.27
         },
         {
          "a": "METEOR",
          "b": 0.28
         },
         {
          "a": "chrF++",
          "b": 0.49
         },
         {
          "a": "TER",
          "b": 0.64
         }
        ],
        "data-bc7ff337ee0081c86b216edadf1106a3": [
         {
          "a": "BLEU",
          "b": 31.02
         },
         {
          "a": "BLEU NLTK",
          "b": 0.31
         },
         {
          "a": "METEOR",
          "b": 0.32
         },
         {
          "a": "chrF++",
          "b": 0.54
         },
         {
          "a": "TER",
          "b": 0.58
         }
        ],
        "data-caad390b0469cf5dac101d88bb9c27b9": [
         {
          "a": "BLEU",
          "b": 25.69
         },
         {
          "a": "BLEU NLTK",
          "b": 0.26
         },
         {
          "a": "METEOR",
          "b": 0.27
         },
         {
          "a": "chrF++",
          "b": 0.47
         },
         {
          "a": "TER",
          "b": 0.65
         }
        ],
        "data-de6563bfa4b1a2c29ffd491e4dd4f96e": [
         {
          "a": "BLEU",
          "b": 30.82
         },
         {
          "a": "BLEU NLTK",
          "b": 0.31
         },
         {
          "a": "METEOR",
          "b": 0.31
         },
         {
          "a": "chrF++",
          "b": 0.53
         },
         {
          "a": "TER",
          "b": 0.59
         }
        ],
        "data-fa5e25037944d6afc4251c6896bf1ca3": [
         {
          "a": "BLEU",
          "b": 30.68
         },
         {
          "a": "BLEU NLTK",
          "b": 0.31
         },
         {
          "a": "METEOR",
          "b": 0.31
         },
         {
          "a": "chrF++",
          "b": 0.53
         },
         {
          "a": "TER",
          "b": 0.59
         }
        ]
       },
       "hconcat": [
        {
         "encoding": {
          "x": {
           "field": "a",
           "title": "Metrics",
           "type": "nominal"
          },
          "y": {
           "field": "b",
           "title": "Score",
           "type": "quantitative"
          }
         },
         "mark": "bar",
         "title": "fconv_self_att_wp_v0"
        },
        {
         "data": {
          "name": "data-2dd0e6fcd738e53b5d97c087e4284c9b"
         },
         "encoding": {
          "x": {
           "field": "a",
           "title": "Metrics",
           "type": "nominal"
          },
          "y": {
           "field": "b",
           "title": "Score",
           "type": "quantitative"
          }
         },
         "mark": "bar",
         "title": "transformer_iwslt_de_en_v10"
        },
        {
         "data": {
          "name": "data-16909ab804c937aba75128e062adbed7"
         },
         "encoding": {
          "x": {
           "field": "a",
           "title": "Metrics",
           "type": "nominal"
          },
          "y": {
           "field": "b",
           "title": "Score",
           "type": "quantitative"
          }
         },
         "mark": "bar",
         "title": "transformer_iwslt_de_en_v111"
        },
        {
         "data": {
          "name": "data-95a8c7f108463152da0e61af0124a2ce"
         },
         "encoding": {
          "x": {
           "field": "a",
           "title": "Metrics",
           "type": "nominal"
          },
          "y": {
           "field": "b",
           "title": "Score",
           "type": "quantitative"
          }
         },
         "mark": "bar",
         "title": "fconv_self_att_wp_v1"
        },
        {
         "data": {
          "name": "data-1de0a12b44dad73aacfaaf37e757d6d9"
         },
         "encoding": {
          "x": {
           "field": "a",
           "title": "Metrics",
           "type": "nominal"
          },
          "y": {
           "field": "b",
           "title": "Score",
           "type": "quantitative"
          }
         },
         "mark": "bar",
         "title": "transformer_iwslt_de_en_v11"
        },
        {
         "data": {
          "name": "data-675ff3a884e9b1ff1f825fc39178cdd3"
         },
         "encoding": {
          "x": {
           "field": "a",
           "title": "Metrics",
           "type": "nominal"
          },
          "y": {
           "field": "b",
           "title": "Score",
           "type": "quantitative"
          }
         },
         "mark": "bar",
         "title": "transformer_iwslt_de_en_v12"
        },
        {
         "data": {
          "name": "data-caad390b0469cf5dac101d88bb9c27b9"
         },
         "encoding": {
          "x": {
           "field": "a",
           "title": "Metrics",
           "type": "nominal"
          },
          "y": {
           "field": "b",
           "title": "Score",
           "type": "quantitative"
          }
         },
         "mark": "bar",
         "title": "transformer_iwslt_de_en_v32"
        },
        {
         "data": {
          "name": "data-de6563bfa4b1a2c29ffd491e4dd4f96e"
         },
         "encoding": {
          "x": {
           "field": "a",
           "title": "Metrics",
           "type": "nominal"
          },
          "y": {
           "field": "b",
           "title": "Score",
           "type": "quantitative"
          }
         },
         "mark": "bar",
         "title": "transformer_iwslt_de_en_v39"
        },
        {
         "data": {
          "name": "data-5fc1988fbb3f30d3ddce71880b1b2d4f"
         },
         "encoding": {
          "x": {
           "field": "a",
           "title": "Metrics",
           "type": "nominal"
          },
          "y": {
           "field": "b",
           "title": "Score",
           "type": "quantitative"
          }
         },
         "mark": "bar",
         "title": "transformer_iwslt_de_en_v44"
        },
        {
         "data": {
          "name": "data-fa5e25037944d6afc4251c6896bf1ca3"
         },
         "encoding": {
          "x": {
           "field": "a",
           "title": "Metrics",
           "type": "nominal"
          },
          "y": {
           "field": "b",
           "title": "Score",
           "type": "quantitative"
          }
         },
         "mark": "bar",
         "title": "transformer_iwslt_de_en_v46"
        },
        {
         "data": {
          "name": "data-bc7ff337ee0081c86b216edadf1106a3"
         },
         "encoding": {
          "x": {
           "field": "a",
           "title": "Metrics",
           "type": "nominal"
          },
          "y": {
           "field": "b",
           "title": "Score",
           "type": "quantitative"
          }
         },
         "mark": "bar",
         "title": "transformer_iwslt_de_en_v53"
        }
       ],
       "resolve": {
        "scale": {
         "y": "shared"
        }
       }
      },
      "text/plain": [
       "<VegaLite 3 object>\n",
       "\n",
       "If you see this message, it means the renderer has not been properly enabled\n",
       "for the frontend that you are using. For more information, see\n",
       "https://altair-viz.github.io/user_guide/troubleshooting.html\n"
      ]
     },
     "execution_count": 7,
     "metadata": {},
     "output_type": "execute_result"
    }
   ],
   "source": [
    "multiples = alt.hconcat()\n",
    "for graph in graphs:\n",
    "  multiples |= graph \n",
    "\n",
    "multiples = multiples.resolve_scale(\n",
    "    y='shared'\n",
    ")\n",
    "\n",
    "multiples"
   ]
  }
 ],
 "metadata": {
  "colab": {
   "collapsed_sections": [],
   "name": "PlotEvaluations.ipynb",
   "provenance": []
  },
  "kernelspec": {
   "display_name": "Python 3",
   "language": "python",
   "name": "python3"
  },
  "language_info": {
   "codemirror_mode": {
    "name": "ipython",
    "version": 3
   },
   "file_extension": ".py",
   "mimetype": "text/x-python",
   "name": "python",
   "nbconvert_exporter": "python",
   "pygments_lexer": "ipython3",
   "version": "3.6.4"
  }
 },
 "nbformat": 4,
 "nbformat_minor": 1
}
