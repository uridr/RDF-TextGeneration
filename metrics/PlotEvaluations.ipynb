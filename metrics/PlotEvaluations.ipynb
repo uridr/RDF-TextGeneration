{
  "nbformat": 4,
  "nbformat_minor": 0,
  "metadata": {
    "colab": {
      "name": "PlotEvaluations.ipynb",
      "provenance": [],
      "collapsed_sections": []
    },
    "kernelspec": {
      "name": "python3",
      "display_name": "Python 3"
    }
  },
  "cells": [
    {
      "cell_type": "code",
      "metadata": {
        "id": "hxYtNDwcAsJD",
        "colab_type": "code",
        "colab": {}
      },
      "source": [
        "import altair as alt\n",
        "import json\n",
        "import pandas as pd"
      ],
      "execution_count": 0,
      "outputs": []
    },
    {
      "cell_type": "code",
      "metadata": {
        "id": "J-b_M5oPAzfb",
        "colab_type": "code",
        "colab": {
          "base_uri": "https://localhost:8080/",
          "height": 34
        },
        "outputId": "623098fe-aaad-45fc-90f6-e1f6d71eb505"
      },
      "source": [
        "#Need to load models_metrics.json to content\n",
        "data = []\n",
        "with open(\"/content/models_metrics.json\") as f:\n",
        "    data = json.load(f)\n",
        "\n",
        "print(data[0][\"metrics\"])"
      ],
      "execution_count": 6,
      "outputs": [
        {
          "output_type": "stream",
          "text": [
            "{'BLEU': 26.47, 'BLEU NLTK': 0.26, 'METEOR': 0.28, 'chrF++': 0.48, 'TER': 0.63}\n"
          ],
          "name": "stdout"
        }
      ]
    },
    {
      "cell_type": "code",
      "metadata": {
        "id": "QHTZfUgKBiqU",
        "colab_type": "code",
        "colab": {}
      },
      "source": [
        "graphs = []\n",
        "for eval in range(0,len(data)):\n",
        "  eval_metrics = data[eval][\"metrics\"]\n",
        "  source = pd.DataFrame({\n",
        "    'a': list(eval_metrics.keys()),\n",
        "    'b': list(eval_metrics.values())\n",
        "  })\n",
        "  chart = alt.Chart(source).mark_bar().encode(\n",
        "    x=alt.X('a', title='Metrics'),\n",
        "    y=alt.Y('b', title='Score')\n",
        "  ).properties(\n",
        "    title=data[eval][\"model\"]\n",
        "  ) \n",
        "\n",
        "  graphs.append(chart)\n",
        "  "
      ],
      "execution_count": 0,
      "outputs": []
    },
    {
      "cell_type": "code",
      "metadata": {
        "id": "GvZgdJXoA5le",
        "colab_type": "code",
        "colab": {
          "base_uri": "https://localhost:8080/",
          "height": 431
        },
        "outputId": "d15c1893-c3fe-49ea-a065-9988766402a2"
      },
      "source": [
        "multiples = alt.hconcat()\n",
        "for graph in graphs:\n",
        "  multiples |= graph \n",
        "\n",
        "multiples = multiples.resolve_scale(\n",
        "    y='shared'\n",
        ")\n",
        "\n",
        "multiples"
      ],
      "execution_count": 47,
      "outputs": [
        {
          "output_type": "execute_result",
          "data": {
            "text/plain": [
              "alt.HConcatChart(...)"
            ],
            "text/html": [
              "\n",
              "<div id=\"altair-viz-1a6f49c4e0194a9fb7461737749e5f06\"></div>\n",
              "<script type=\"text/javascript\">\n",
              "  (function(spec, embedOpt){\n",
              "    let outputDiv = document.currentScript.previousElementSibling;\n",
              "    if (outputDiv.id !== \"altair-viz-1a6f49c4e0194a9fb7461737749e5f06\") {\n",
              "      outputDiv = document.getElementById(\"altair-viz-1a6f49c4e0194a9fb7461737749e5f06\");\n",
              "    }\n",
              "    const paths = {\n",
              "      \"vega\": \"https://cdn.jsdelivr.net/npm//vega@5?noext\",\n",
              "      \"vega-lib\": \"https://cdn.jsdelivr.net/npm//vega-lib?noext\",\n",
              "      \"vega-lite\": \"https://cdn.jsdelivr.net/npm//vega-lite@4.8.1?noext\",\n",
              "      \"vega-embed\": \"https://cdn.jsdelivr.net/npm//vega-embed@6?noext\",\n",
              "    };\n",
              "\n",
              "    function loadScript(lib) {\n",
              "      return new Promise(function(resolve, reject) {\n",
              "        var s = document.createElement('script');\n",
              "        s.src = paths[lib];\n",
              "        s.async = true;\n",
              "        s.onload = () => resolve(paths[lib]);\n",
              "        s.onerror = () => reject(`Error loading script: ${paths[lib]}`);\n",
              "        document.getElementsByTagName(\"head\")[0].appendChild(s);\n",
              "      });\n",
              "    }\n",
              "\n",
              "    function showError(err) {\n",
              "      outputDiv.innerHTML = `<div class=\"error\" style=\"color:red;\">${err}</div>`;\n",
              "      throw err;\n",
              "    }\n",
              "\n",
              "    function displayChart(vegaEmbed) {\n",
              "      vegaEmbed(outputDiv, spec, embedOpt)\n",
              "        .catch(err => showError(`Javascript Error: ${err.message}<br>This usually means there's a typo in your chart specification. See the javascript console for the full traceback.`));\n",
              "    }\n",
              "\n",
              "    if(typeof define === \"function\" && define.amd) {\n",
              "      requirejs.config({paths});\n",
              "      require([\"vega-embed\"], displayChart, err => showError(`Error loading script: ${err.message}`));\n",
              "    } else if (typeof vegaEmbed === \"function\") {\n",
              "      displayChart(vegaEmbed);\n",
              "    } else {\n",
              "      loadScript(\"vega\")\n",
              "        .then(() => loadScript(\"vega-lite\"))\n",
              "        .then(() => loadScript(\"vega-embed\"))\n",
              "        .catch(showError)\n",
              "        .then(() => displayChart(vegaEmbed));\n",
              "    }\n",
              "  })({\"config\": {\"view\": {\"continuousWidth\": 400, \"continuousHeight\": 300}}, \"hconcat\": [{\"mark\": \"bar\", \"encoding\": {\"x\": {\"type\": \"nominal\", \"field\": \"a\", \"title\": \"Metrics\"}, \"y\": {\"type\": \"quantitative\", \"field\": \"b\", \"title\": \"Score\"}}, \"title\": \"fconv_self_att_wp_v0\"}, {\"data\": {\"name\": \"data-2dd0e6fcd738e53b5d97c087e4284c9b\"}, \"mark\": \"bar\", \"encoding\": {\"x\": {\"type\": \"nominal\", \"field\": \"a\", \"title\": \"Metrics\"}, \"y\": {\"type\": \"quantitative\", \"field\": \"b\", \"title\": \"Score\"}}, \"title\": \"transformer_iwslt_de_en_v10\"}, {\"data\": {\"name\": \"data-16909ab804c937aba75128e062adbed7\"}, \"mark\": \"bar\", \"encoding\": {\"x\": {\"type\": \"nominal\", \"field\": \"a\", \"title\": \"Metrics\"}, \"y\": {\"type\": \"quantitative\", \"field\": \"b\", \"title\": \"Score\"}}, \"title\": \"transformer_iwslt_de_en_v111\"}], \"data\": {\"name\": \"data-7f4073dceb59daf5d1c014d8d60d1cbc\"}, \"resolve\": {\"scale\": {\"y\": \"shared\"}}, \"$schema\": \"https://vega.github.io/schema/vega-lite/v4.8.1.json\", \"datasets\": {\"data-7f4073dceb59daf5d1c014d8d60d1cbc\": [{\"a\": \"BLEU\", \"b\": 26.47}, {\"a\": \"BLEU NLTK\", \"b\": 0.26}, {\"a\": \"METEOR\", \"b\": 0.28}, {\"a\": \"chrF++\", \"b\": 0.48}, {\"a\": \"TER\", \"b\": 0.63}], \"data-2dd0e6fcd738e53b5d97c087e4284c9b\": [{\"a\": \"BLEU\", \"b\": 30.28}, {\"a\": \"BLEU NLTK\", \"b\": 0.3}, {\"a\": \"METEOR\", \"b\": 0.31}, {\"a\": \"chrF++\", \"b\": 0.53}, {\"a\": \"TER\", \"b\": 0.59}], \"data-16909ab804c937aba75128e062adbed7\": [{\"a\": \"BLEU\", \"b\": 1.4}, {\"a\": \"BLEU NLTK\", \"b\": 0.01}, {\"a\": \"METEOR\", \"b\": 0.04}, {\"a\": \"chrF++\", \"b\": 0.06}, {\"a\": \"TER\", \"b\": 2.21}]}}, {\"mode\": \"vega-lite\"});\n",
              "</script>"
            ]
          },
          "metadata": {
            "tags": []
          },
          "execution_count": 47
        }
      ]
    }
  ]
}